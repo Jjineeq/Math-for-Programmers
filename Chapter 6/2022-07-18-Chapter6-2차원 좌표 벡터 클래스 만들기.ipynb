{
 "cells": [
  {
   "cell_type": "markdown",
   "id": "7612039f",
   "metadata": {},
   "source": [
    "#### 앞선 부록 B에서 상속까지 공부를 하고 왔다.\n",
    "#### 이어서 2차원 좌표 벡터 클래스 만들기부터 이어서 하겠다.\n",
    "----"
   ]
  },
  {
   "cell_type": "markdown",
   "id": "228101ad",
   "metadata": {},
   "source": [
    "## 6.1.1. 2차원 좌표 벡터 클래스 만들기\n",
    "#### 지금까지 코드로 다룬 2차원 벡터와 3차원 벡터는 좌표벡터다. \n",
    "#### 벡터 산술은 화살표를 사용해 기하학적으로 정의할 수 있지만 파이썬에서는 좌표로 이루어진 수의 튜플로 정의한다.\n",
    "#### 이런 접근법은 파이썬 코드로 직접 변환할 수 없다.\n",
    "#### 튜플은 이러한 데이터를 저장하는 데 유용하지만 클래스를 사용할 수도 있다."
   ]
  },
  {
   "cell_type": "code",
   "execution_count": 3,
   "id": "bd312b12",
   "metadata": {},
   "outputs": [],
   "source": [
    "class Vec2():\n",
    "    def __init__(self,x,y):\n",
    "        self.x = x\n",
    "        self.y = y\n",
    "# 2차원 좌표 벡터를 나타내는 클래스"
   ]
  },
  {
   "cell_type": "code",
   "execution_count": 4,
   "id": "c61a8dec",
   "metadata": {},
   "outputs": [],
   "source": [
    "# 벡터합과 스칼라곱을 이 클래스에 부여할 수 있다.\n",
    "class Vec2():\n",
    "    def __init__(self,x,y):\n",
    "        self.x = x\n",
    "        self.y = y\n",
    "    def add(self,v2):\n",
    "        return Vec2(self.x + v2.x, self.y + v2.y)\n",
    "# 백터합 함수 add를 만들어 벡터합의 두번째 벡터를 인자로 받아 각 좌표끼리 더한 합인 새로운 Vec2 객체를 리턴"
   ]
  },
  {
   "cell_type": "code",
   "execution_count": 5,
   "id": "3b763f9a",
   "metadata": {},
   "outputs": [
    {
     "name": "stdout",
     "output_type": "stream",
     "text": [
      "1\n"
     ]
    }
   ],
   "source": [
    "v = Vec2(3,4) # x좌표 =3, y좌표 =4 인 새로운 객체 생성\n",
    "w = v.add(Vec2(-2,6)) # v에 Vec2 더하는 계산\n",
    "print(w.x)"
   ]
  },
  {
   "cell_type": "code",
   "execution_count": 6,
   "id": "daba47bb",
   "metadata": {},
   "outputs": [],
   "source": [
    "class Vec2():\n",
    "    def __init__(self,x,y):\n",
    "        self.x = x\n",
    "        self.y = y\n",
    "    def add(self,v2):\n",
    "        return Vec2(self.x + v2.x, self.y + v2.y)\n",
    "    def scale(self, scalar):\n",
    "        return Vec2(scalar * self.x, scalar * self.y) # 입력을 스칼라로 받아 새로운 확대, 축소 벡터를 출력 "
   ]
  },
  {
   "cell_type": "code",
   "execution_count": 7,
   "id": "2854b1a1",
   "metadata": {},
   "outputs": [],
   "source": [
    "class Vec2():\n",
    "    def __init__(self,x,y):\n",
    "        self.x = x\n",
    "        self.y = y\n",
    "    def add(self, v2):\n",
    "        return Vec2(self.x + v2.x, self.y + v2.y)\n",
    "    def scale(self, scalar):\n",
    "        return Vec2(scalar * self.x, scalar * self.y)\n",
    "    def __eq__(self,other):\n",
    "        return self.x == other.x and self.y == other.y # x,y 좌표가 모두 일치하면 두 벡터를 같다고 표기"
   ]
  },
  {
   "cell_type": "markdown",
   "id": "73dcf165",
   "metadata": {},
   "source": [
    "## 6.1.2 Vec2 클래스 개선하기\n",
    "#### 파이썬 연산자 +와 *가 각각 벡터합과 스칼라곱을 의미하도록 변경할 수 있다.\n",
    "#### 이것을 연산자 오버로딩이라고 한다."
   ]
  },
  {
   "cell_type": "code",
   "execution_count": 8,
   "id": "ad7f205b",
   "metadata": {},
   "outputs": [],
   "source": [
    "class Vec2():\n",
    "    def __init__(self,x,y):\n",
    "        self.x = x\n",
    "        self.y = y\n",
    "    def add(self, v2):\n",
    "        return Vec2(self.x + v2.x, self.y + v2.y)\n",
    "    def scale(self, scalar):\n",
    "        return Vec2(scalar * self.x, scalar * self.y)\n",
    "    def __eq__(self,other):\n",
    "        return self.x == other.x and self.y == other.y\n",
    "    def __add__(self, v2):\n",
    "        return self.add(v2)\n",
    "    def __mul__(self, scalar):\n",
    "        return self.scale(scalar) # 스칼라 곱을 왼쪽에\n",
    "    def __rmul__(self,scalar): \n",
    "        return self.scale(scalar) # 스칼라 곱을 오른쪽에"
   ]
  },
  {
   "cell_type": "code",
   "execution_count": 9,
   "id": "ac7a9cf9",
   "metadata": {},
   "outputs": [
    {
     "data": {
      "text/plain": [
       "<__main__.Vec2 at 0x1b71ac5edf0>"
      ]
     },
     "execution_count": 9,
     "metadata": {},
     "output_type": "execute_result"
    }
   ],
   "source": [
    "3.0*Vec2(1,0) + 4.0*Vec2(0,1)"
   ]
  },
  {
   "cell_type": "markdown",
   "id": "b60e144f",
   "metadata": {},
   "source": [
    "#### 실제 수행해보면 인스턴스의 메모리 주소를 보여준다.\n",
    "#### 우리가 알고 싶은것은 실제 값이므로 __repr__ 메소드를 오버라이딩해서 문자열 표기로 바꿔준다."
   ]
  },
  {
   "cell_type": "code",
   "execution_count": 10,
   "id": "c2b07649",
   "metadata": {},
   "outputs": [],
   "source": [
    "class Vec2():\n",
    "    def __init__(self,x,y):\n",
    "        self.x = x\n",
    "        self.y = y\n",
    "    def add(self, v2):\n",
    "        return Vec2(self.x + v2.x, self.y + v2.y)\n",
    "    def scale(self, scalar):\n",
    "        return Vec2(scalar * self.x, scalar * self.y)\n",
    "    def __eq__(self,other):\n",
    "        return self.x == other.x and self.y == other.y\n",
    "    def __add__(self, v2):\n",
    "        return self.add(v2)\n",
    "    def __mul__(self, scalar):\n",
    "        return self.scale(scalar)\n",
    "    def __rmul__(self,scalar): \n",
    "        return self.scale(scalar)\n",
    "    def __repr__(self):\n",
    "        return \"Vec2({},{})\".format(self.x,self.y)"
   ]
  },
  {
   "cell_type": "code",
   "execution_count": 11,
   "id": "44c3e4d6",
   "metadata": {},
   "outputs": [
    {
     "data": {
      "text/plain": [
       "Vec2(3.0,4.0)"
      ]
     },
     "execution_count": 11,
     "metadata": {},
     "output_type": "execute_result"
    }
   ],
   "source": [
    "3.0*Vec2(1,0) + 4.0*Vec2(0,1) # 데이터인 좌표를 보여줌."
   ]
  },
  {
   "cell_type": "markdown",
   "id": "c2514d80",
   "metadata": {},
   "source": [
    "#### 클래스를 만들면 앞에서 변경한 동등성 메서드처럼 거의 변환 없이 반복적으로 사용하는 보일러 플레이트 코드가 필요하다.\n",
    "#### 또한 별도로 정의한 문자열 표현은 임의의 튜플이 아니라 2차원 벡터임을 보여줄 수 있다.\n",
    "---\n",
    "## 6.1.3 3차원 벡터에서 반복 작업하기\n",
    "#### 3차원 클래스는 Vec3라고 정의해서 설명하겠다."
   ]
  },
  {
   "cell_type": "code",
   "execution_count": 12,
   "id": "e5102df7",
   "metadata": {},
   "outputs": [],
   "source": [
    "class Vec3():\n",
    "    def __init__(self,x,y,z): #1\n",
    "        self.x = x\n",
    "        self.y = y\n",
    "        self.z = z\n",
    "    def add(self, other):\n",
    "        return Vec3(self.x + other.x, self.y + other.y, self.z + other.z)\n",
    "    def scale(self, scalar):\n",
    "        return Vec3(scalar * self.x, scalar * self.y, scalar * self.z)\n",
    "    def __eq__(self,other):\n",
    "        return self.x == other.x and self.y == other.y and self.z == other.z\n",
    "    def __add__(self, other):\n",
    "        return self.add(other)\n",
    "    def __mul__(self, scalar):\n",
    "        return self.scale(scalar)\n",
    "    def __rmul__(self,scalar):\n",
    "        return self.scale(scalar)\n",
    "    def __repr__(self):\n",
    "        return \"Vec3({},{},{})\".format(self.x,self.y, self.z)\n",
    "# 2차원과 비슷하지만 z좌표가 추가된 것이 2차원과의 차이점이다."
   ]
  },
  {
   "cell_type": "code",
   "execution_count": 13,
   "id": "4708f569",
   "metadata": {},
   "outputs": [
    {
     "data": {
      "text/plain": [
       "Vec3(2.0,2.0,0.0)"
      ]
     },
     "execution_count": 13,
     "metadata": {},
     "output_type": "execute_result"
    }
   ],
   "source": [
    "2.0*(Vec3(1,0,0) + Vec3(0,1,0)) # 동일한 원리로 잘 작동되는 것을 확인할 수 있다."
   ]
  },
  {
   "cell_type": "code",
   "execution_count": 14,
   "id": "42e44994",
   "metadata": {},
   "outputs": [],
   "source": [
    "def average(v1,v2):\n",
    "    return 0.5*v1 + 0.5*v2\n",
    "# 모든 종류의 벡터에 사용할 수 있는 일반적인 average함수"
   ]
  },
  {
   "cell_type": "code",
   "execution_count": 16,
   "id": "e617704a",
   "metadata": {},
   "outputs": [
    {
     "data": {
      "text/plain": [
       "Vec2(4.0,3.5)"
      ]
     },
     "execution_count": 16,
     "metadata": {},
     "output_type": "execute_result"
    }
   ],
   "source": [
    "average(Vec2(0,1),Vec2(8,6))"
   ]
  },
  {
   "cell_type": "code",
   "execution_count": 17,
   "id": "bf46149a",
   "metadata": {},
   "outputs": [
    {
     "data": {
      "text/plain": [
       "Vec3(2.5,3.5,4.5)"
      ]
     },
     "execution_count": 17,
     "metadata": {},
     "output_type": "execute_result"
    }
   ],
   "source": [
    "average(Vec3(1,2,3), Vec3(4,5,6))"
   ]
  },
  {
   "cell_type": "markdown",
   "id": "a27d68c6",
   "metadata": {},
   "source": [
    "#### 그림에 대한 평균도 낼 수 있다.\n",
    "#### average(img1, img2)를 작성해 새로운 이미지를 리턴할 수도 있다.\n",
    "#### 입력에 걸린 유일한 제약조건은 스칼라와 객체의 곱셈과 객체 간 덧셈을 지원할 필요가 있다는 것이다.\n",
    "#### 즉 사용하는 산술의 종류와 특정 종류의 산술의 구현을 분리하면 코드 재사용과 이에 따른 수학 명제들을 볼 수 있다.\n",
    "---\n",
    "## 6.1.4 벡터 기반 클래스 구축하기"
   ]
  },
  {
   "cell_type": "code",
   "execution_count": 18,
   "id": "37ade1bf",
   "metadata": {},
   "outputs": [],
   "source": [
    "from abc import ABCMeta, abstractmethod\n",
    "\n",
    "class Vector(metaclass = ABCMeta):\n",
    "    @abstractmethod\n",
    "    def scale(self, scalar):\n",
    "        pass\n",
    "    @abstractmethod\n",
    "    def add(self, other):\n",
    "        pass"
   ]
  },
  {
   "cell_type": "markdown",
   "id": "428a29bd",
   "metadata": {},
   "source": [
    "#### abc 모듈에는 추상 베이스 클래스를 정의하는데 도움이 되는 보조 클래스, 함수 및 메서드 데코레이터가 포함되어 있다.\n",
    "#### 추상 베이스 클래스는 그 자체로 인스턴화 되지는 않지만 이 클래스를 상속받은 클래스들에 대한 일종의 템플릿으로 사용되도록 설계되었다.\n",
    "#### @abstractmethod 데코레이터는 추상베이스 클래스에서 구현되지 않은 메서드이므로 자식 클래스가 구현해야 함을 의미한다.\n",
    "#### 정리하자면 추상 베이스 클래스에서는 메서드가 선언된 상태이며 정의되어 있지 않다."
   ]
  },
  {
   "cell_type": "code",
   "execution_count": 20,
   "id": "a1bb248e",
   "metadata": {},
   "outputs": [
    {
     "ename": "TypeError",
     "evalue": "Can't instantiate abstract class Vector with abstract methods add, scale",
     "output_type": "error",
     "traceback": [
      "\u001b[1;31m---------------------------------------------------------------------------\u001b[0m",
      "\u001b[1;31mTypeError\u001b[0m                                 Traceback (most recent call last)",
      "Input \u001b[1;32mIn [20]\u001b[0m, in \u001b[0;36m<cell line: 2>\u001b[1;34m()\u001b[0m\n\u001b[0;32m      1\u001b[0m \u001b[38;5;66;03m# 예시\u001b[39;00m\n\u001b[1;32m----> 2\u001b[0m v \u001b[38;5;241m=\u001b[39m \u001b[43mVector\u001b[49m\u001b[43m(\u001b[49m\u001b[43m)\u001b[49m\n",
      "\u001b[1;31mTypeError\u001b[0m: Can't instantiate abstract class Vector with abstract methods add, scale"
     ]
    }
   ],
   "source": [
    "# 예시\n",
    "v = Vector()\n",
    "# 벡터를 인스턴화하려고 하면 안되는 것을 확인 할 수 있음"
   ]
  },
  {
   "cell_type": "code",
   "execution_count": 25,
   "id": "63bde93e",
   "metadata": {},
   "outputs": [],
   "source": [
    "class Vector(metaclass=ABCMeta):\n",
    "    @abstractmethod\n",
    "    def scale(self,scalar):\n",
    "        pass\n",
    "    @abstractmethod\n",
    "    def add(self,other):\n",
    "        pass\n",
    "    def __mul__(self, scalar):\n",
    "        return self.scale(scalar)\n",
    "    def __rmul__(self, scalar):\n",
    "        return self.scale(scalar)\n",
    "    def __add__(self,other):\n",
    "        return self.add(other) "
   ]
  },
  {
   "cell_type": "markdown",
   "id": "df5a53de",
   "metadata": {},
   "source": [
    "#### scale과 add와 달리 추상 메서드를 호출하는 위의 함수 구현들은 어떠한 자식 클래스에서도 이용가능하다."
   ]
  },
  {
   "cell_type": "code",
   "execution_count": 93,
   "id": "f39f0563",
   "metadata": {},
   "outputs": [],
   "source": [
    "class Vector(metaclass=ABCMeta):\n",
    "    @abstractmethod\n",
    "    def scale(self,scalar):\n",
    "        pass\n",
    "    @abstractmethod\n",
    "    def add(self,other):\n",
    "        pass\n",
    "    def __mul__(self, scalar):\n",
    "        return self.scale(scalar)\n",
    "    def __rmul__(self, scalar):\n",
    "        return self.scale(scalar)\n",
    "    def __add__(self,other):\n",
    "        return self.add(other)\n",
    "    def subtract(self,other):\n",
    "        return self.add(-1 * other)\n",
    "    def __sub__(self,other):\n",
    "        return self.subtract(other)\n",
    "    \n",
    "class Vec2(Vector):\n",
    "    def __init__(self,x,y):\n",
    "        self.x = x\n",
    "        self.y = y\n",
    "    def add(self,other):\n",
    "        return Vec2(self.x + other.x, self.y + other.y)\n",
    "    def scale(self,scalar):\n",
    "        return Vec2(scalar * self.x, scalar * self.y)\n",
    "    def __eq__(self,other):\n",
    "        return self.x == other.x and self.y == other.y\n",
    "    def __repr__(self):\n",
    "        return \"Vec2({},{})\".format(self.x, self.y)"
   ]
  },
  {
   "cell_type": "markdown",
   "id": "de93de8d",
   "metadata": {},
   "source": [
    "#### Vec2와 Ve3에서 동일한 메서드는 Vector클래스에 존재하게 된다.\n",
    "#### 이렇게 추상 베이스 클래스에 유용한 메서드를 추가하면 어떠한 종류의 벡터에서도 유용하게 사용 가능하다."
   ]
  },
  {
   "cell_type": "code",
   "execution_count": 94,
   "id": "32c1f652",
   "metadata": {},
   "outputs": [
    {
     "data": {
      "text/plain": [
       "Vec2(-4,2)"
      ]
     },
     "execution_count": 94,
     "metadata": {},
     "output_type": "execute_result"
    }
   ],
   "source": [
    "Vec2(1,3)-Vec2(5,1)\n",
    "# 정상적으로 잘 작동됨"
   ]
  },
  {
   "cell_type": "markdown",
   "id": "0c072cf8",
   "metadata": {},
   "source": [
    "---\n",
    "## 6.1.5 벡터공간 정의하기\n",
    "####  벡터는 다른 벡터와 더하고 스칼라를 곱하는 적절한 방법을 갖춘 객체이다.\n",
    "#### 벡터공간은 벡터라고 불리는 객체의 집합이다.\n",
    "#### 적절한 벡터 합과 스칼라곱 연산을 갖추고 있다. 또한 해당 집합에 포함된 벡터들에 대한 모든 일차결합도 해당 집합에 포함되어야 한다.\n"
   ]
  },
  {
   "cell_type": "code",
   "execution_count": 95,
   "id": "b86d1d50",
   "metadata": {},
   "outputs": [
    {
     "data": {
      "text/plain": [
       "Vec2(6,-3)"
      ]
     },
     "execution_count": 95,
     "metadata": {},
     "output_type": "execute_result"
    }
   ],
   "source": [
    "# Vec2(1,0), Vec2(5,-3), Vec2(1.1,0.8)은 덧셈과 곱셈은 적절히 갖추었지만 벡터 공간은 아님\n",
    "1*Vec2(1,0) + 1* Vec2(5,-3)\n",
    "# 결과가 집합에 포함되어 있지 않다."
   ]
  },
  {
   "cell_type": "markdown",
   "id": "e735a98e",
   "metadata": {},
   "source": [
    "#### 벡터공간이 모든 스칼라곱을 포함해야 된다는 사실로부터 두가지 결론을 얻을 수 있다.\n",
    "#### 첫번째는 벡터공간에서 어떠한 벡터 v를 취하더라도 0*v 는 같은 벡터이다.\n",
    "#### 이것을 영벡터라고 부른다. 즉 임의의 벡터에 영벡터를 더하면 아무런 변화가 없다고 할 수 있다.\n",
    "#### 두번째는 모든 벡터 v는 역벡터인 -1*v를 가진다. \n",
    "#### 즉 모든 벡터에 대해 덧셈을 통해 그 벡터를 상쇄하는 벡터가 벡터공간에 존재한다고 할 수 있다.\n",
    "---\n",
    "## 6.1.6 벡터공간 클래스를 단위 테스트하기\n",
    "#### 추상 베이스 클래스에 add라는 추상 메서드를 추가한다고 해도 상속받은 모든 클래스가 덧셈 연산을 구현하는지는 보장할 수 없다.\n",
    "#### 수학에서 적절성을 보장하기 위해 증명하는 것처럼 코딩에서 테스트를 진행해보겠다."
   ]
  },
  {
   "cell_type": "code",
   "execution_count": 96,
   "id": "0b6e00a3",
   "metadata": {},
   "outputs": [
    {
     "data": {
      "text/plain": [
       "True"
      ]
     },
     "execution_count": 96,
     "metadata": {},
     "output_type": "execute_result"
    }
   ],
   "source": [
    "s = -3\n",
    "u, v = Vec2(42,-10), Vec2(1.5, 8)\n",
    "s * (u + v) == s * v + s * u"
   ]
  },
  {
   "cell_type": "code",
   "execution_count": 97,
   "id": "3a8bd72f",
   "metadata": {},
   "outputs": [
    {
     "ename": "AssertionError",
     "evalue": "",
     "output_type": "error",
     "traceback": [
      "\u001b[1;31m---------------------------------------------------------------------------\u001b[0m",
      "\u001b[1;31mAssertionError\u001b[0m                            Traceback (most recent call last)",
      "Input \u001b[1;32mIn [97]\u001b[0m, in \u001b[0;36m<cell line: 11>\u001b[1;34m()\u001b[0m\n\u001b[0;32m      9\u001b[0m a \u001b[38;5;241m=\u001b[39m random_scalar()\n\u001b[0;32m     10\u001b[0m u, v \u001b[38;5;241m=\u001b[39m random_vec2(), random_vec2()\n\u001b[1;32m---> 11\u001b[0m \u001b[38;5;28;01massert\u001b[39;00m a\u001b[38;5;241m*\u001b[39m(u\u001b[38;5;241m+\u001b[39mv) \u001b[38;5;241m==\u001b[39m a\u001b[38;5;241m*\u001b[39mv \u001b[38;5;241m+\u001b[39m a\u001b[38;5;241m*\u001b[39mu\n",
      "\u001b[1;31mAssertionError\u001b[0m: "
     ]
    }
   ],
   "source": [
    "# 한가지로만 증명하기에는  부족한 부분이 있어 random.uniform 함수를 사용해 보겠다.\n",
    "from random import uniform\n",
    "\n",
    "def random_scalar():\n",
    "    return uniform(-10,10)\n",
    "def random_vec2():\n",
    "    return Vec2(random_scalar(),random_scalar())\n",
    "\n",
    "a = random_scalar()\n",
    "u, v = random_vec2(), random_vec2()\n",
    "assert a*(u+v) == a*v + a*u"
   ]
  },
  {
   "cell_type": "code",
   "execution_count": 98,
   "id": "b79c1934",
   "metadata": {},
   "outputs": [
    {
     "data": {
      "text/plain": [
       "(-6.765290539981681,\n",
       " Vec2(6.20021707179324,7.2037492279313895),\n",
       " Vec2(-7.430257035716947,-7.035537876625773))"
      ]
     },
     "execution_count": 98,
     "metadata": {},
     "output_type": "execute_result"
    }
   ],
   "source": [
    "a,u,v"
   ]
  },
  {
   "cell_type": "code",
   "execution_count": 99,
   "id": "79a0d6e6",
   "metadata": {},
   "outputs": [
    {
     "data": {
      "text/plain": [
       "False"
      ]
     },
     "execution_count": 99,
     "metadata": {},
     "output_type": "execute_result"
    }
   ],
   "source": [
    "a*(u+v) == a*v + a*u\n",
    "# 몇번을 반복해서 False가 되는 것을 찾았다.\n",
    "# 이것은 수학 계산의 오류보다 아주 작은 불일치 때문에 발생한 것이다."
   ]
  },
  {
   "cell_type": "code",
   "execution_count": 100,
   "id": "de36afa7",
   "metadata": {},
   "outputs": [],
   "source": [
    "# 아주 작은 불일치를 무시하기 위한 코드\n",
    "from math import isclose\n",
    "\n",
    "def approx_equal_vec2(v,w):\n",
    "    return isclose(v.x,w.x) and isclose(v.y,w.y) # 정확하게 같지 않아도 얼마나 근접한지 테스트\n",
    "\n",
    "for _ in range(0,100): \n",
    "    a = random_scalar()\n",
    "    u, v = random_vec2(), random_vec2()\n",
    "    assert approx_equal_vec2(a * (u + v), a * v + a * u)"
   ]
  },
  {
   "cell_type": "code",
   "execution_count": 101,
   "id": "e71ab393",
   "metadata": {},
   "outputs": [],
   "source": [
    "# 벡터공간의 규칙 6개를 모두 통과하는지 테스트를 진행\n",
    "def test(eq, a, b, u, v, w): \n",
    "    assert eq(u + v, v + u)\n",
    "    assert eq(u + (v + w), (u + v) + w)\n",
    "    assert eq(a * (b * v), (a * b) * v)\n",
    "    assert eq(1 * v, v)\n",
    "    assert eq((a + b) * v, a * v + b * v)\n",
    "    assert eq(a * v + a * w, a * (v + w))"
   ]
  },
  {
   "cell_type": "code",
   "execution_count": 102,
   "id": "fe13bf18",
   "metadata": {},
   "outputs": [],
   "source": [
    "for i in range(0,100):\n",
    "    a,b = random_scalar(), random_scalar()\n",
    "    u,v,w = random_vec2(), random_vec2(), random_vec2()\n",
    "    test(approx_equal_vec2, a,b,u,v,w)"
   ]
  },
  {
   "cell_type": "code",
   "execution_count": 103,
   "id": "2524c546",
   "metadata": {},
   "outputs": [],
   "source": [
    "# test(approx_equal_vec2, a,b,u,v,w) == test(approx_equal_vec2, a,b,u,v,w)\n",
    "# u+v == v+u\n",
    "# u+(v+w) == (u+v) + w"
   ]
  }
 ],
 "metadata": {
  "kernelspec": {
   "display_name": "Python 3 (ipykernel)",
   "language": "python",
   "name": "python3"
  },
  "language_info": {
   "codemirror_mode": {
    "name": "ipython",
    "version": 3
   },
   "file_extension": ".py",
   "mimetype": "text/x-python",
   "name": "python",
   "nbconvert_exporter": "python",
   "pygments_lexer": "ipython3",
   "version": "3.9.12"
  }
 },
 "nbformat": 4,
 "nbformat_minor": 5
}
