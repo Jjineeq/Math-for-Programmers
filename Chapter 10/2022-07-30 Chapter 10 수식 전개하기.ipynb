{
 "cells": [
  {
   "cell_type": "markdown",
   "id": "86bc5b5f",
   "metadata": {},
   "source": [
    "### 10.3.3 수식 전개하기\n",
    "#### 수식의 전개중 임의의 합을 거듭제곱하거나 다른 수식과 곱해서 수행하는 것을 진행하겠다."
   ]
  },
  {
   "cell_type": "code",
   "execution_count": 1,
   "id": "d204327b",
   "metadata": {},
   "outputs": [],
   "source": [
    "from abc import ABC, abstractmethod\n",
    "class Expression(ABC):\n",
    "    @abstractmethod\n",
    "    def evaluate(self, **bindings):\n",
    "        pass"
   ]
  },
  {
   "cell_type": "code",
   "execution_count": 2,
   "id": "dd983a7b",
   "metadata": {},
   "outputs": [],
   "source": [
    "# 식이나 변수나 수라면 이미 전개가 끝났다. 이런 경우에는 expand 메서드는 객체 자제를 리턴한다.\n",
    "class Product(Expression):\n",
    "    def __init__(self, exp1, exp2):\n",
    "        self.exp1 = exp1\n",
    "        self.exp2 = exp2\n",
    "    def evaluate(self, **bindings):\n",
    "        return self.exp1.evaluate(**bindings) * self.exp2.evaluate(**bindings)\n",
    "    def expand(self):\n",
    "        expanded1 = self.exp1.expand() # 곱의 두 항을 전개한다.\n",
    "        expanded2 = self.exp2.expand()\n",
    "        if isinstance(expanded1, Sum): # 곱의 첫번쨰 항이 sum이면 첫번쨰 항의 각 항과 곱의 두번째 항을 곱하는 Product를 구한뒤\n",
    "            return Sum(*[Product(e,expanded2).expand() for e in expanded1.exps]) # 그 전개(expand)메서드를 호출한다. 곱의 두번째 항이 Sum일 수 있기 때문이다.\n",
    "        elif isinstance(expanded2, Sum): # 곱의 두번째 항이 Sum이면 곱의 첫번째 항에다가 두번째 항의 각 항을 곱한다.\n",
    "            return Sum(*[Product(expanded1,e) for e in expanded2.exps])\n",
    "        else:\n",
    "            return Product(expanded1,expanded2) # 두 항이 모두 sum이 아니면 분배법칙을 호출하지 않는다.\n",
    "    def display(self):\n",
    "        return \"Product({},{})\".format(self.exp1.display(),self.exp2.display())\n",
    "        "
   ]
  },
  {
   "cell_type": "code",
   "execution_count": 6,
   "id": "0e5fa4a6",
   "metadata": {},
   "outputs": [],
   "source": [
    "class Variable(Expression):\n",
    "    def __init__(self,symbol):\n",
    "        self.symbol = symbol\n",
    "    def evaluate(self,**bindings):\n",
    "        try:\n",
    "            return bindings[self.symbol]\n",
    "        except:\n",
    "            raise KeyError(\"Variable '{}' is not bound.\".format(self.symbol))\n",
    "            \n",
    "class Sum():\n",
    "    def __init__(self,*exps): # 입력하는 항의 개수에 제한이 없음\n",
    "        self.exps = exps"
   ]
  },
  {
   "cell_type": "code",
   "execution_count": 7,
   "id": "42fcaa46",
   "metadata": {},
   "outputs": [
    {
     "data": {
      "text/plain": [
       "<__main__.Product at 0x2cbaf73ae50>"
      ]
     },
     "execution_count": 7,
     "metadata": {},
     "output_type": "execute_result"
    }
   ],
   "source": [
    "Y = Variable('y')\n",
    "Z = Variable('z')\n",
    "A = Variable('a')\n",
    "B = Variable('b')\n",
    "\n",
    "Product(Sum(A,B),Sum(Y,Z))"
   ]
  },
  {
   "cell_type": "code",
   "execution_count": null,
   "id": "febae57c",
   "metadata": {},
   "outputs": [],
   "source": []
  }
 ],
 "metadata": {
  "kernelspec": {
   "display_name": "Python 3",
   "language": "python",
   "name": "python3"
  },
  "language_info": {
   "codemirror_mode": {
    "name": "ipython",
    "version": 3
   },
   "file_extension": ".py",
   "mimetype": "text/x-python",
   "name": "python",
   "nbconvert_exporter": "python",
   "pygments_lexer": "ipython3",
   "version": "3.8.8"
  }
 },
 "nbformat": 4,
 "nbformat_minor": 5
}
